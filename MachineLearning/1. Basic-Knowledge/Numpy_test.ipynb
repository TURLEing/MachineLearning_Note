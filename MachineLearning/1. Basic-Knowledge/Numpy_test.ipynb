{
 "cells": [
  {
   "cell_type": "markdown",
   "id": "b7abd75a",
   "metadata": {
    "heading_collapsed": true
   },
   "source": [
    "## 1. 引入 numpy 库："
   ]
  },
  {
   "cell_type": "code",
   "execution_count": 1,
   "id": "0dd421a5",
   "metadata": {
    "hidden": true
   },
   "outputs": [],
   "source": [
    "import numpy as np"
   ]
  },
  {
   "cell_type": "code",
   "execution_count": 3,
   "id": "2fb6161c",
   "metadata": {
    "hidden": true
   },
   "outputs": [
    {
     "data": {
      "text/plain": [
       "'1.21.5'"
      ]
     },
     "execution_count": 3,
     "metadata": {},
     "output_type": "execute_result"
    }
   ],
   "source": [
    "np.__version__"
   ]
  },
  {
   "cell_type": "markdown",
   "id": "bb072285",
   "metadata": {
    "hidden": true
   },
   "source": [
    "Numpy 限制了数组的类型，从而达到更高的效率"
   ]
  },
  {
   "cell_type": "code",
   "execution_count": 4,
   "id": "eb5c115a",
   "metadata": {
    "hidden": true
   },
   "outputs": [
    {
     "data": {
      "text/plain": [
       "dtype('float64')"
      ]
     },
     "execution_count": 4,
     "metadata": {},
     "output_type": "execute_result"
    }
   ],
   "source": [
    "nparr = np.array([1, 2, 3.0])\n",
    "nparr.dtype"
   ]
  },
  {
   "cell_type": "code",
   "execution_count": 5,
   "id": "e03a9c65",
   "metadata": {
    "hidden": true,
    "scrolled": true
   },
   "outputs": [
    {
     "data": {
      "text/plain": [
       "array([1., 2., 3.])"
      ]
     },
     "execution_count": 5,
     "metadata": {},
     "output_type": "execute_result"
    }
   ],
   "source": [
    "nparr"
   ]
  },
  {
   "cell_type": "markdown",
   "id": "5001f4ca",
   "metadata": {
    "hidden": true
   },
   "source": [
    "### 其他初始化 np.array 的方法：zeros, full"
   ]
  },
  {
   "cell_type": "code",
   "execution_count": 12,
   "id": "1e0fdaa0",
   "metadata": {
    "hidden": true
   },
   "outputs": [
    {
     "data": {
      "text/plain": [
       "array([0, 0, 0, 0, 0, 0, 0, 0, 0, 0], dtype=int64)"
      ]
     },
     "execution_count": 12,
     "metadata": {},
     "output_type": "execute_result"
    }
   ],
   "source": [
    "arr = np.zeros(10, dtype = \"int64\")\n",
    "print(arr)"
   ]
  },
  {
   "cell_type": "markdown",
   "id": "7152f2c2",
   "metadata": {
    "hidden": true
   },
   "source": [
    "### 还可以初始化一个矩阵："
   ]
  },
  {
   "cell_type": "code",
   "execution_count": 17,
   "id": "21a638d3",
   "metadata": {
    "hidden": true,
    "scrolled": true
   },
   "outputs": [
    {
     "name": "stdout",
     "output_type": "stream",
     "text": [
      "[['hello' 'hello' 'hello' 'hello' 'hello']\n",
      " ['hello' 'hello' 'hello' 'hello' 'hello']\n",
      " ['hello' 'hello' 'hello' 'hello' 'hello']]\n"
     ]
    }
   ],
   "source": [
    "arr = np.full(shape = (3, 5), fill_value = \"hello\")\n",
    "# 用关键字标记不同的参数，与顺序无关\n",
    "\n",
    "print(arr)"
   ]
  },
  {
   "cell_type": "markdown",
   "id": "c53afa82",
   "metadata": {
    "heading_collapsed": true
   },
   "source": [
    "## 2. `arange` 方法与 `linspace` 方法"
   ]
  },
  {
   "cell_type": "code",
   "execution_count": 19,
   "id": "852e964c",
   "metadata": {
    "hidden": true
   },
   "outputs": [
    {
     "data": {
      "text/plain": [
       "array([ 0,  2,  4,  6,  8, 10, 12, 14, 16, 18])"
      ]
     },
     "execution_count": 19,
     "metadata": {},
     "output_type": "execute_result"
    }
   ],
   "source": [
    "np.arange(0, 20, 2) # 与 range 语法一致"
   ]
  },
  {
   "cell_type": "code",
   "execution_count": 22,
   "id": "f70fd8cb",
   "metadata": {
    "hidden": true
   },
   "outputs": [
    {
     "data": {
      "text/plain": [
       "array([ 0,  2,  4,  6,  8, 10, 12, 14, 16, 18, 20])"
      ]
     },
     "execution_count": 22,
     "metadata": {},
     "output_type": "execute_result"
    }
   ],
   "source": [
    "np.linspace(0,20,11, dtype=int) # 在范围内等距的取出十个数据"
   ]
  },
  {
   "cell_type": "markdown",
   "id": "0497aeb5",
   "metadata": {
    "heading_collapsed": true
   },
   "source": [
    "## 3. 创建随机数向量/矩阵"
   ]
  },
  {
   "cell_type": "code",
   "execution_count": 31,
   "id": "b35b9f4e",
   "metadata": {
    "hidden": true
   },
   "outputs": [
    {
     "data": {
      "text/plain": [
       "array([0.62552398, 0.53788167, 0.25004949, 0.6616414 , 0.95263128,\n",
       "       0.83929611, 0.20513773, 0.22583081, 0.35376718, 0.10724021])"
      ]
     },
     "execution_count": 31,
     "metadata": {},
     "output_type": "execute_result"
    }
   ],
   "source": [
    "np.random.random(10)"
   ]
  },
  {
   "cell_type": "code",
   "execution_count": 29,
   "id": "328bf84c",
   "metadata": {
    "hidden": true
   },
   "outputs": [
    {
     "data": {
      "text/plain": [
       "array([[ 9, 81, 46, 33, 46],\n",
       "       [15, 55, 17, 59, 26],\n",
       "       [11, 57, 72, 54, 69]])"
      ]
     },
     "execution_count": 29,
     "metadata": {},
     "output_type": "execute_result"
    }
   ],
   "source": [
    "np.random.randint(0, 100, size=(3,5))"
   ]
  },
  {
   "cell_type": "markdown",
   "id": "df4fcbfc",
   "metadata": {
    "hidden": true
   },
   "source": [
    "`normal`方法可以生成一个满足正太分布的随机数组："
   ]
  },
  {
   "cell_type": "code",
   "execution_count": 37,
   "id": "ac4f1dda",
   "metadata": {
    "hidden": true
   },
   "outputs": [
    {
     "data": {
      "text/plain": [
       "array([11.07860617, 12.41383159,  9.0800886 ,  9.68659177, 10.86520318,\n",
       "        9.67078179,  9.58967842, 10.64501099, 10.75771145,  9.77126654])"
      ]
     },
     "execution_count": 37,
     "metadata": {},
     "output_type": "execute_result"
    }
   ],
   "source": [
    "np.random.normal(loc=10,scale=1,size=10)\n",
    "# 均值为10，方差为1，大小为10的数组"
   ]
  },
  {
   "cell_type": "code",
   "execution_count": 44,
   "id": "43e99055",
   "metadata": {
    "hidden": true
   },
   "outputs": [],
   "source": [
    "np.random.normal? #可以直接查询方法"
   ]
  },
  {
   "cell_type": "markdown",
   "id": "9791abf7",
   "metadata": {
    "heading_collapsed": true
   },
   "source": [
    "## 4. `Numpy` 基本操作"
   ]
  },
  {
   "cell_type": "code",
   "execution_count": 51,
   "id": "fe1f2c15",
   "metadata": {
    "hidden": true,
    "scrolled": true
   },
   "outputs": [],
   "source": [
    "X = np.random.randint(0,20, size=(3,5))\n",
    "# 创建一个矩阵"
   ]
  },
  {
   "cell_type": "markdown",
   "id": "b2cfb643",
   "metadata": {
    "heading_collapsed": true,
    "hidden": true
   },
   "source": [
    "### - 常见属性："
   ]
  },
  {
   "cell_type": "code",
   "execution_count": 52,
   "id": "96484b3f",
   "metadata": {
    "hidden": true,
    "scrolled": true
   },
   "outputs": [
    {
     "name": "stdout",
     "output_type": "stream",
     "text": [
      "Dimension:  2\n",
      "Shape:  (3, 5)\n",
      "Size:  15\n"
     ]
    }
   ],
   "source": [
    "print(\"Dimension: \", X.ndim) # X的维度\n",
    "print(\"Shape: \", X.shape) # X的元组\n",
    "print(\"Size: \", X.size) # X元素的大小"
   ]
  },
  {
   "cell_type": "markdown",
   "id": "358a399c",
   "metadata": {
    "heading_collapsed": true,
    "hidden": true
   },
   "source": [
    "### - 数据访问的方式："
   ]
  },
  {
   "cell_type": "code",
   "execution_count": 64,
   "id": "38a808c0",
   "metadata": {
    "hidden": true
   },
   "outputs": [
    {
     "name": "stdout",
     "output_type": "stream",
     "text": [
      "0 or 0\n"
     ]
    }
   ],
   "source": [
    "print(X[0][0], \"or\", X[0,0])  \n",
    "# 更推荐后者"
   ]
  },
  {
   "cell_type": "code",
   "execution_count": 69,
   "id": "9d2b3c39",
   "metadata": {
    "hidden": true,
    "scrolled": true
   },
   "outputs": [
    {
     "data": {
      "text/plain": [
       "array([[ 0,  5, 15, 16],\n",
       "       [ 4,  9,  3,  2]])"
      ]
     },
     "execution_count": 69,
     "metadata": {},
     "output_type": "execute_result"
    }
   ],
   "source": [
    "X[:2, :4] # Py切片"
   ]
  },
  {
   "cell_type": "code",
   "execution_count": 68,
   "id": "fbfb1edf",
   "metadata": {
    "hidden": true
   },
   "outputs": [
    {
     "data": {
      "text/plain": [
       "array([ 4, 16, 15,  5,  0])"
      ]
     },
     "execution_count": 68,
     "metadata": {},
     "output_type": "execute_result"
    }
   ],
   "source": [
    "X[0,::-1] #倒序枚举"
   ]
  },
  {
   "cell_type": "code",
   "execution_count": 70,
   "id": "260eb843",
   "metadata": {
    "hidden": true
   },
   "outputs": [
    {
     "data": {
      "text/plain": [
       "array([ 0,  5, 15, 16,  4])"
      ]
     },
     "execution_count": 70,
     "metadata": {},
     "output_type": "execute_result"
    }
   ],
   "source": [
    "X[0, :] #取第一列"
   ]
  },
  {
   "cell_type": "markdown",
   "id": "bd418fcb",
   "metadata": {
    "heading_collapsed": true,
    "hidden": true
   },
   "source": [
    "### *Numpy的浅拷贝："
   ]
  },
  {
   "cell_type": "code",
   "execution_count": 72,
   "id": "649d234e",
   "metadata": {
    "hidden": true
   },
   "outputs": [
    {
     "data": {
      "text/plain": [
       "array([[ 0,  5, 15],\n",
       "       [ 4,  9,  3]])"
      ]
     },
     "execution_count": 72,
     "metadata": {},
     "output_type": "execute_result"
    }
   ],
   "source": [
    "subX = X[:2, :3]\n",
    "subX"
   ]
  },
  {
   "cell_type": "code",
   "execution_count": 73,
   "id": "cbce73c4",
   "metadata": {
    "hidden": true,
    "scrolled": true
   },
   "outputs": [
    {
     "data": {
      "text/plain": [
       "array([[100,   5,  15],\n",
       "       [  4,   9,   3]])"
      ]
     },
     "execution_count": 73,
     "metadata": {},
     "output_type": "execute_result"
    }
   ],
   "source": [
    "subX[0, 0] = 100\n",
    "subX"
   ]
  },
  {
   "cell_type": "code",
   "execution_count": 75,
   "id": "fc8a773d",
   "metadata": {
    "hidden": true
   },
   "outputs": [
    {
     "data": {
      "text/plain": [
       "array([[100,   5,  15,  16,   4],\n",
       "       [  4,   9,   3,   2,   0],\n",
       "       [  4,   4,  14,   4,  13]])"
      ]
     },
     "execution_count": 75,
     "metadata": {},
     "output_type": "execute_result"
    }
   ],
   "source": [
    "X # 修改subX的同时改变了X，说明是浅拷贝"
   ]
  },
  {
   "cell_type": "code",
   "execution_count": 80,
   "id": "d7b54ccd",
   "metadata": {
    "hidden": true,
    "scrolled": true
   },
   "outputs": [
    {
     "data": {
      "text/plain": [
       "array([[100,   5,  15],\n",
       "       [  4,   9,   3]])"
      ]
     },
     "execution_count": 80,
     "metadata": {},
     "output_type": "execute_result"
    }
   ],
   "source": [
    "subX = X[:2, :3].copy() # 这样就可以深拷贝了\n",
    "X[0, 0] = 0\n",
    "subX"
   ]
  },
  {
   "cell_type": "markdown",
   "id": "65e33969",
   "metadata": {
    "heading_collapsed": true
   },
   "source": [
    "## 5. `Numpy` 常见方法"
   ]
  },
  {
   "cell_type": "markdown",
   "id": "89e6e4bf",
   "metadata": {
    "heading_collapsed": true,
    "hidden": true
   },
   "source": [
    "### reshape 方法：改写矩阵"
   ]
  },
  {
   "cell_type": "code",
   "execution_count": 83,
   "id": "b1c91ab0",
   "metadata": {
    "hidden": true
   },
   "outputs": [
    {
     "data": {
      "text/plain": [
       "array([12, 15,  3,  6,  8,  8,  2, 11,  0,  5])"
      ]
     },
     "execution_count": 83,
     "metadata": {},
     "output_type": "execute_result"
    }
   ],
   "source": [
    "X = np.random.randint(0, 20, 10)\n",
    "X"
   ]
  },
  {
   "cell_type": "code",
   "execution_count": 88,
   "id": "68783be2",
   "metadata": {
    "hidden": true
   },
   "outputs": [
    {
     "data": {
      "text/plain": [
       "array([[12, 15,  3,  6,  8],\n",
       "       [ 8,  2, 11,  0,  5]])"
      ]
     },
     "execution_count": 88,
     "metadata": {},
     "output_type": "execute_result"
    }
   ],
   "source": [
    "X.reshape(2, -1)  # 将X转化为10行的矩阵"
   ]
  },
  {
   "cell_type": "code",
   "execution_count": 90,
   "id": "7762231e",
   "metadata": {
    "hidden": true
   },
   "outputs": [
    {
     "data": {
      "text/plain": [
       "array([[12, 15],\n",
       "       [ 3,  6],\n",
       "       [ 8,  8],\n",
       "       [ 2, 11],\n",
       "       [ 0,  5]])"
      ]
     },
     "execution_count": 90,
     "metadata": {},
     "output_type": "execute_result"
    }
   ],
   "source": [
    "X.reshape(-1, 2) #将X转化为2列的矩阵"
   ]
  },
  {
   "cell_type": "markdown",
   "id": "e25cdc9b",
   "metadata": {
    "heading_collapsed": true,
    "hidden": true
   },
   "source": [
    "### 数据合并方法"
   ]
  },
  {
   "cell_type": "code",
   "execution_count": 2,
   "id": "67be3e5b",
   "metadata": {
    "hidden": true
   },
   "outputs": [],
   "source": [
    "x = np.array([1, 2, 3])\n",
    "y = np.array([4, 5, 6])"
   ]
  },
  {
   "cell_type": "code",
   "execution_count": 18,
   "id": "0c04fb3e",
   "metadata": {
    "hidden": true
   },
   "outputs": [
    {
     "data": {
      "text/plain": [
       "array([[1, 2, 3],\n",
       "       [4, 5, 6]])"
      ]
     },
     "execution_count": 18,
     "metadata": {},
     "output_type": "execute_result"
    }
   ],
   "source": [
    "np.concatenate((x.reshape(1,-1), y.reshape(1,-1)), axis=0)\n",
    "# 先将二者转化为 1*3 的矩阵，在进行竖向合并"
   ]
  },
  {
   "cell_type": "code",
   "execution_count": 20,
   "id": "af12896c",
   "metadata": {
    "hidden": true
   },
   "outputs": [
    {
     "data": {
      "text/plain": [
       "array([[1, 2, 3],\n",
       "       [4, 5, 6]])"
      ]
     },
     "execution_count": 20,
     "metadata": {},
     "output_type": "execute_result"
    }
   ],
   "source": [
    "np.vstack([x,y])\n",
    "# 可以直接竖向拼接，好用！"
   ]
  },
  {
   "cell_type": "markdown",
   "id": "43a69e70",
   "metadata": {
    "hidden": true
   },
   "source": [
    "### 数据分割方法"
   ]
  },
  {
   "cell_type": "code",
   "execution_count": 23,
   "id": "f8a5efea",
   "metadata": {
    "hidden": true
   },
   "outputs": [
    {
     "data": {
      "text/plain": [
       "array([0, 1, 2, 3, 4, 5, 6, 7, 8, 9])"
      ]
     },
     "execution_count": 23,
     "metadata": {},
     "output_type": "execute_result"
    }
   ],
   "source": [
    "x = np.arange(10)\n",
    "x"
   ]
  },
  {
   "cell_type": "code",
   "execution_count": 26,
   "id": "720ad850",
   "metadata": {
    "hidden": true
   },
   "outputs": [
    {
     "name": "stdout",
     "output_type": "stream",
     "text": [
      "[0 1 2 3] [4 5 6 7 8 9]\n"
     ]
    }
   ],
   "source": [
    "x1, x2 = np.split(x, [4])\n",
    "print(x1, x2) # 在位置 4 进行切割"
   ]
  },
  {
   "cell_type": "markdown",
   "id": "7f78f3e8",
   "metadata": {
    "hidden": true
   },
   "source": [
    "#### 对于高维矩阵，也可以进行分割："
   ]
  },
  {
   "cell_type": "code",
   "execution_count": 27,
   "id": "dc467df6",
   "metadata": {
    "hidden": true
   },
   "outputs": [
    {
     "data": {
      "text/plain": [
       "array([[ 0,  1,  2,  3],\n",
       "       [ 4,  5,  6,  7],\n",
       "       [ 8,  9, 10, 11],\n",
       "       [12, 13, 14, 15]])"
      ]
     },
     "execution_count": 27,
     "metadata": {},
     "output_type": "execute_result"
    }
   ],
   "source": [
    "A = np.arange(16).reshape(4,-1)\n",
    "A"
   ]
  },
  {
   "cell_type": "code",
   "execution_count": 33,
   "id": "c2b60a6f",
   "metadata": {
    "hidden": true
   },
   "outputs": [
    {
     "data": {
      "text/plain": [
       "array([[ 0,  1],\n",
       "       [ 4,  5],\n",
       "       [ 8,  9],\n",
       "       [12, 13]])"
      ]
     },
     "execution_count": 33,
     "metadata": {},
     "output_type": "execute_result"
    }
   ],
   "source": [
    "A1, A2 = np.split(A, [2]) # 基于行的维度进行分割\n",
    "A1, A2 = np.split(A, [2], axis=1) # 基于列的维度进行分割\n",
    "A1 "
   ]
  },
  {
   "cell_type": "code",
   "execution_count": 37,
   "id": "79a74e83",
   "metadata": {
    "hidden": true,
    "scrolled": true
   },
   "outputs": [
    {
     "data": {
      "text/plain": [
       "array([[ 0,  1],\n",
       "       [ 4,  5],\n",
       "       [ 8,  9],\n",
       "       [12, 13]])"
      ]
     },
     "execution_count": 37,
     "metadata": {},
     "output_type": "execute_result"
    }
   ],
   "source": [
    "A1, A2 = np.vsplit(A,[2]) # 与合并操作类似\n",
    "A1, A2 = np.hsplit(A,[2]) # 水平方向切割\n",
    "A1"
   ]
  },
  {
   "cell_type": "markdown",
   "id": "7a231b82",
   "metadata": {
    "hidden": true
   },
   "source": [
    "#### 分割方法可以抽出某个数据集的特征向量"
   ]
  },
  {
   "cell_type": "code",
   "execution_count": 38,
   "id": "2dd8f2cd",
   "metadata": {
    "hidden": true
   },
   "outputs": [
    {
     "data": {
      "text/plain": [
       "array([[ 3],\n",
       "       [ 7],\n",
       "       [11],\n",
       "       [15]])"
      ]
     },
     "execution_count": 38,
     "metadata": {},
     "output_type": "execute_result"
    }
   ],
   "source": [
    "x, y = np.hsplit(A, [-1]) # 抽出最后一维的特征\n",
    "y # y 即为对应的特征"
   ]
  },
  {
   "cell_type": "code",
   "execution_count": 39,
   "id": "747b317e",
   "metadata": {
    "hidden": true
   },
   "outputs": [
    {
     "data": {
      "text/plain": [
       "array([ 3,  7, 11, 15])"
      ]
     },
     "execution_count": 39,
     "metadata": {},
     "output_type": "execute_result"
    }
   ],
   "source": [
    "y[: , 0] # 抽出每一行的唯一元素，便构成了特征向量"
   ]
  },
  {
   "cell_type": "markdown",
   "id": "ffcb707b",
   "metadata": {
    "hidden": true
   },
   "source": [
    "### 数据排序方法"
   ]
  },
  {
   "cell_type": "code",
   "execution_count": 71,
   "id": "cf8051c3",
   "metadata": {
    "hidden": true
   },
   "outputs": [
    {
     "data": {
      "text/plain": [
       "array([11,  6, 15,  7, 13,  2,  1, 10,  9,  5, 14,  3,  4,  0,  8, 12])"
      ]
     },
     "execution_count": 71,
     "metadata": {},
     "output_type": "execute_result"
    }
   ],
   "source": [
    "x = np.arange(16)\n",
    "np.random.shuffle(x)\n",
    "x"
   ]
  },
  {
   "cell_type": "code",
   "execution_count": 73,
   "id": "b23723ad",
   "metadata": {
    "hidden": true
   },
   "outputs": [
    {
     "data": {
      "text/plain": [
       "array([[ 6,  7, 11, 15],\n",
       "       [ 1,  2, 10, 13],\n",
       "       [ 3,  5,  9, 14],\n",
       "       [ 0,  4,  8, 12]])"
      ]
     },
     "execution_count": 73,
     "metadata": {},
     "output_type": "execute_result"
    }
   ],
   "source": [
    "np.sort(x.reshape(4,-1)) # 但不改变本身\n",
    "# 注意到这是在列方向上排序的"
   ]
  },
  {
   "cell_type": "code",
   "execution_count": 76,
   "id": "23b76987",
   "metadata": {
    "hidden": true
   },
   "outputs": [
    {
     "data": {
      "text/plain": [
       "array([13,  6,  5, 11, 12,  9,  1,  3, 14,  8,  7,  0, 15,  4, 10,  2],\n",
       "      dtype=int64)"
      ]
     },
     "execution_count": 76,
     "metadata": {},
     "output_type": "execute_result"
    }
   ],
   "source": [
    "np.argsort(x) # 返回排序前的下标"
   ]
  },
  {
   "cell_type": "markdown",
   "id": "3dd4c8a7",
   "metadata": {},
   "source": [
    "## 6. 矩阵运算"
   ]
  },
  {
   "cell_type": "markdown",
   "id": "5312008b",
   "metadata": {
    "heading_collapsed": true
   },
   "source": [
    "### 1. 线性运算"
   ]
  },
  {
   "cell_type": "code",
   "execution_count": 1,
   "id": "bd8c6fc9",
   "metadata": {
    "hidden": true
   },
   "outputs": [
    {
     "data": {
      "text/plain": [
       "array([[ 1,  2,  3,  4,  5],\n",
       "       [ 6,  7,  8,  9, 10],\n",
       "       [11, 12, 13, 14, 15]])"
      ]
     },
     "execution_count": 1,
     "metadata": {},
     "output_type": "execute_result"
    }
   ],
   "source": [
    "X = np.arange(1,16).reshape((3,5))\n",
    "X"
   ]
  },
  {
   "cell_type": "code",
   "execution_count": 2,
   "id": "9c1fe37c",
   "metadata": {
    "hidden": true
   },
   "outputs": [
    {
     "data": {
      "text/plain": [
       "array([[ 2,  4,  6,  8, 10],\n",
       "       [12, 14, 16, 18, 20],\n",
       "       [22, 24, 26, 28, 30]])"
      ]
     },
     "execution_count": 2,
     "metadata": {},
     "output_type": "execute_result"
    }
   ],
   "source": [
    "X * 2 # 可以直接进行线性运算"
   ]
  },
  {
   "cell_type": "code",
   "execution_count": 3,
   "id": "1a898631",
   "metadata": {
    "hidden": true
   },
   "outputs": [
    {
     "data": {
      "text/plain": [
       "array([[  1,   4,   9,  16,  25],\n",
       "       [ 36,  49,  64,  81, 100],\n",
       "       [121, 144, 169, 196, 225]], dtype=int32)"
      ]
     },
     "execution_count": 3,
     "metadata": {},
     "output_type": "execute_result"
    }
   ],
   "source": [
    "X ** 2 "
   ]
  },
  {
   "cell_type": "code",
   "execution_count": 4,
   "id": "917aab3e",
   "metadata": {
    "hidden": true
   },
   "outputs": [
    {
     "data": {
      "text/plain": [
       "array([[1, 1, 1, 1, 1],\n",
       "       [1, 1, 1, 1, 1],\n",
       "       [1, 1, 1, 1, 1]], dtype=int32)"
      ]
     },
     "execution_count": 4,
     "metadata": {},
     "output_type": "execute_result"
    }
   ],
   "source": [
    "X // X"
   ]
  },
  {
   "cell_type": "code",
   "execution_count": 8,
   "id": "92e73414",
   "metadata": {
    "hidden": true
   },
   "outputs": [
    {
     "data": {
      "text/plain": [
       "array([[       3,        9,       27,       81,      243],\n",
       "       [     729,     2187,     6561,    19683,    59049],\n",
       "       [  177147,   531441,  1594323,  4782969, 14348907]], dtype=int32)"
      ]
     },
     "execution_count": 8,
     "metadata": {},
     "output_type": "execute_result"
    }
   ],
   "source": [
    "3 ** X"
   ]
  },
  {
   "cell_type": "code",
   "execution_count": 9,
   "id": "f3ecd4be",
   "metadata": {
    "hidden": true
   },
   "outputs": [
    {
     "data": {
      "text/plain": [
       "array([[0.        , 0.30103   , 0.47712125, 0.60205999, 0.69897   ],\n",
       "       [0.77815125, 0.84509804, 0.90308999, 0.95424251, 1.        ],\n",
       "       [1.04139269, 1.07918125, 1.11394335, 1.14612804, 1.17609126]])"
      ]
     },
     "execution_count": 9,
     "metadata": {},
     "output_type": "execute_result"
    }
   ],
   "source": [
    "np.log10(X)"
   ]
  },
  {
   "cell_type": "markdown",
   "id": "c9869231",
   "metadata": {
    "heading_collapsed": true
   },
   "source": [
    "### 2. 矩阵运算"
   ]
  },
  {
   "cell_type": "code",
   "execution_count": 11,
   "id": "359f9250",
   "metadata": {
    "hidden": true
   },
   "outputs": [
    {
     "data": {
      "text/plain": [
       "array([[0, 1],\n",
       "       [2, 3]])"
      ]
     },
     "execution_count": 11,
     "metadata": {},
     "output_type": "execute_result"
    }
   ],
   "source": [
    "A = np.arange(4).reshape(2,-1)\n",
    "A"
   ]
  },
  {
   "cell_type": "code",
   "execution_count": 12,
   "id": "61c51131",
   "metadata": {
    "hidden": true
   },
   "outputs": [
    {
     "data": {
      "text/plain": [
       "array([[2, 2],\n",
       "       [2, 2]])"
      ]
     },
     "execution_count": 12,
     "metadata": {},
     "output_type": "execute_result"
    }
   ],
   "source": [
    "B = np.full((2,2), 2)\n",
    "B"
   ]
  },
  {
   "cell_type": "code",
   "execution_count": 13,
   "id": "f4a491e4",
   "metadata": {
    "hidden": true
   },
   "outputs": [
    {
     "data": {
      "text/plain": [
       "array([[0, 2],\n",
       "       [4, 6]])"
      ]
     },
     "execution_count": 13,
     "metadata": {},
     "output_type": "execute_result"
    }
   ],
   "source": [
    "A * B # 代数乘"
   ]
  },
  {
   "cell_type": "code",
   "execution_count": 14,
   "id": "230dffb5",
   "metadata": {
    "hidden": true
   },
   "outputs": [
    {
     "data": {
      "text/plain": [
       "array([[ 2,  2],\n",
       "       [10, 10]])"
      ]
     },
     "execution_count": 14,
     "metadata": {},
     "output_type": "execute_result"
    }
   ],
   "source": [
    "A.dot(B) # 矩阵乘"
   ]
  },
  {
   "cell_type": "code",
   "execution_count": 15,
   "id": "b0bf3883",
   "metadata": {
    "hidden": true
   },
   "outputs": [
    {
     "data": {
      "text/plain": [
       "array([[0, 2],\n",
       "       [1, 3]])"
      ]
     },
     "execution_count": 15,
     "metadata": {},
     "output_type": "execute_result"
    }
   ],
   "source": [
    "A.T # 转置"
   ]
  },
  {
   "cell_type": "code",
   "execution_count": 17,
   "id": "c73cc4a7",
   "metadata": {
    "hidden": true
   },
   "outputs": [
    {
     "data": {
      "text/plain": [
       "array([[1, 3],\n",
       "       [3, 5]])"
      ]
     },
     "execution_count": 17,
     "metadata": {},
     "output_type": "execute_result"
    }
   ],
   "source": [
    "v = np.array([1,2])\n",
    "v + A # 每一行相应列的值相加"
   ]
  },
  {
   "cell_type": "code",
   "execution_count": 20,
   "id": "d9f73d6e",
   "metadata": {
    "hidden": true
   },
   "outputs": [
    {
     "data": {
      "text/plain": [
       "array([[1, 3],\n",
       "       [3, 5]])"
      ]
     },
     "execution_count": 20,
     "metadata": {},
     "output_type": "execute_result"
    }
   ],
   "source": [
    "np.vstack([v] * A.shape[0]) + A # 等价于这个"
   ]
  },
  {
   "cell_type": "code",
   "execution_count": 42,
   "id": "71677f09",
   "metadata": {
    "hidden": true
   },
   "outputs": [
    {
     "data": {
      "text/plain": [
       "array([[-1.5,  0.5],\n",
       "       [ 1. ,  0. ]])"
      ]
     },
     "execution_count": 42,
     "metadata": {},
     "output_type": "execute_result"
    }
   ],
   "source": [
    "from numpy.linalg import *\n",
    "invA = inv(A)\n",
    "invA"
   ]
  },
  {
   "cell_type": "code",
   "execution_count": 43,
   "id": "476b59df",
   "metadata": {
    "hidden": true
   },
   "outputs": [
    {
     "data": {
      "text/plain": [
       "array([[1., 0.],\n",
       "       [0., 1.]])"
      ]
     },
     "execution_count": 43,
     "metadata": {},
     "output_type": "execute_result"
    }
   ],
   "source": [
    "invA.dot(A) #单位矩阵"
   ]
  },
  {
   "cell_type": "code",
   "execution_count": 44,
   "id": "57c9d4e3",
   "metadata": {
    "hidden": true,
    "scrolled": true
   },
   "outputs": [
    {
     "data": {
      "text/plain": [
       "array([[0, 1, 2],\n",
       "       [3, 4, 5]])"
      ]
     },
     "execution_count": 44,
     "metadata": {},
     "output_type": "execute_result"
    }
   ],
   "source": [
    "X = np.arange(6).reshape(2,-1)\n",
    "X"
   ]
  },
  {
   "cell_type": "code",
   "execution_count": 47,
   "id": "d219be12",
   "metadata": {
    "hidden": true,
    "scrolled": true
   },
   "outputs": [
    {
     "data": {
      "text/plain": [
       "array([[-0.77777778,  0.27777778],\n",
       "       [-0.11111111,  0.11111111],\n",
       "       [ 0.55555556, -0.05555556]])"
      ]
     },
     "execution_count": 47,
     "metadata": {},
     "output_type": "execute_result"
    }
   ],
   "source": [
    "pinvX = pinv(X) # 对于非方阵，也可以求其伪逆矩阵\n",
    "pinvX"
   ]
  },
  {
   "cell_type": "code",
   "execution_count": 49,
   "id": "fc374331",
   "metadata": {
    "hidden": true
   },
   "outputs": [
    {
     "data": {
      "text/plain": [
       "array([[ 1.00000000e+00, -4.16333634e-17],\n",
       "       [ 5.55111512e-16,  1.00000000e+00]])"
      ]
     },
     "execution_count": 49,
     "metadata": {},
     "output_type": "execute_result"
    }
   ],
   "source": [
    "X.dot(pinvX) "
   ]
  },
  {
   "cell_type": "markdown",
   "id": "5c15a72c",
   "metadata": {},
   "source": [
    "### 3. 矩阵复制与删除行&列"
   ]
  },
  {
   "cell_type": "code",
   "execution_count": 24,
   "id": "1203e68b",
   "metadata": {},
   "outputs": [
    {
     "data": {
      "text/plain": [
       "array([[1, 2, 1, 2, 1, 2],\n",
       "       [1, 2, 1, 2, 1, 2]])"
      ]
     },
     "execution_count": 24,
     "metadata": {},
     "output_type": "execute_result"
    }
   ],
   "source": [
    "v = np.array([1,2])\n",
    "np.tile(v, (2,3)) # 行方向重复2次，列方向重复3次"
   ]
  },
  {
   "cell_type": "code",
   "execution_count": 31,
   "id": "ae0ab6be",
   "metadata": {},
   "outputs": [
    {
     "data": {
      "text/plain": [
       "array([1, 1, 1, 2, 2, 2])"
      ]
     },
     "execution_count": 31,
     "metadata": {},
     "output_type": "execute_result"
    }
   ],
   "source": [
    "np.repeat(v, 3, axis=0) # 同元素复制三遍"
   ]
  },
  {
   "cell_type": "code",
   "execution_count": 81,
   "id": "1c211609",
   "metadata": {},
   "outputs": [
    {
     "data": {
      "text/plain": [
       "array([[1, 1, 2],\n",
       "       [1, 1, 2]])"
      ]
     },
     "execution_count": 81,
     "metadata": {},
     "output_type": "execute_result"
    }
   ],
   "source": [
    "K = np.tile(v,(2,3))\n",
    "np.delete(K, np.s_[1:4], axis=1) # 删除第1,3行"
   ]
  },
  {
   "cell_type": "markdown",
   "id": "2c6581c1",
   "metadata": {},
   "source": [
    "## 7. 矩阵聚合操作"
   ]
  },
  {
   "cell_type": "code",
   "execution_count": 51,
   "id": "1068360b",
   "metadata": {},
   "outputs": [],
   "source": [
    "T = np.random.random(100).reshape(10,-1)"
   ]
  },
  {
   "cell_type": "code",
   "execution_count": 53,
   "id": "f1e3e98f",
   "metadata": {},
   "outputs": [
    {
     "data": {
      "text/plain": [
       "46.619168883495384"
      ]
     },
     "execution_count": 53,
     "metadata": {},
     "output_type": "execute_result"
    }
   ],
   "source": [
    "np.sum(T) # 或者 T.sum()"
   ]
  },
  {
   "cell_type": "code",
   "execution_count": 54,
   "id": "927561a4",
   "metadata": {},
   "outputs": [
    {
     "data": {
      "text/plain": [
       "0.023777790834744406"
      ]
     },
     "execution_count": 54,
     "metadata": {},
     "output_type": "execute_result"
    }
   ],
   "source": [
    "np.min(T) # 或者 T.min()"
   ]
  },
  {
   "cell_type": "code",
   "execution_count": 55,
   "id": "3d31e16c",
   "metadata": {},
   "outputs": [
    {
     "data": {
      "text/plain": [
       "array([4.96335513, 4.2709837 , 5.22286257, 5.92276381, 3.14957514,\n",
       "       5.84858132, 4.03162505, 4.11443372, 5.45294598, 3.64204246])"
      ]
     },
     "execution_count": 55,
     "metadata": {},
     "output_type": "execute_result"
    }
   ],
   "source": [
    "np.sum(T, axis=0) # 在行方向进行加法运算"
   ]
  },
  {
   "cell_type": "code",
   "execution_count": 56,
   "id": "e607d479",
   "metadata": {},
   "outputs": [
    {
     "data": {
      "text/plain": [
       "3.2628126245671375e-48"
      ]
     },
     "execution_count": 56,
     "metadata": {},
     "output_type": "execute_result"
    }
   ],
   "source": [
    "np.prod(T)"
   ]
  },
  {
   "cell_type": "code",
   "execution_count": 57,
   "id": "14da66b0",
   "metadata": {},
   "outputs": [
    {
     "data": {
      "text/plain": [
       "0.4661916888349538"
      ]
     },
     "execution_count": 57,
     "metadata": {},
     "output_type": "execute_result"
    }
   ],
   "source": [
    "np.mean(T) # 平均数"
   ]
  },
  {
   "cell_type": "code",
   "execution_count": 58,
   "id": "cd49fe4b",
   "metadata": {},
   "outputs": [
    {
     "data": {
      "text/plain": [
       "0.4320878141695259"
      ]
     },
     "execution_count": 58,
     "metadata": {},
     "output_type": "execute_result"
    }
   ],
   "source": [
    "np.median(T) # 中位数"
   ]
  },
  {
   "cell_type": "code",
   "execution_count": 59,
   "id": "91a37ff0",
   "metadata": {},
   "outputs": [
    {
     "data": {
      "text/plain": [
       "0.08934490152973876"
      ]
     },
     "execution_count": 59,
     "metadata": {},
     "output_type": "execute_result"
    }
   ],
   "source": [
    "np.var(T) # 方差"
   ]
  },
  {
   "cell_type": "code",
   "execution_count": 60,
   "id": "2df197ca",
   "metadata": {},
   "outputs": [
    {
     "data": {
      "text/plain": [
       "0.29890617512814743"
      ]
     },
     "execution_count": 60,
     "metadata": {},
     "output_type": "execute_result"
    }
   ],
   "source": [
    "np.std(T) # 标准差"
   ]
  },
  {
   "cell_type": "markdown",
   "id": "fee9b268",
   "metadata": {},
   "source": [
    "## 8. Numpy 数组比较"
   ]
  },
  {
   "cell_type": "code",
   "execution_count": 85,
   "id": "a1c1e788",
   "metadata": {},
   "outputs": [
    {
     "data": {
      "text/plain": [
       "array([ 5,  4,  9, 10,  1,  7,  6, 14, 13,  8, 15,  3, 11,  2,  0, 12])"
      ]
     },
     "execution_count": 85,
     "metadata": {},
     "output_type": "execute_result"
    }
   ],
   "source": [
    "x = np.arange(16)\n",
    "np.random.shuffle(x)\n",
    "x"
   ]
  },
  {
   "cell_type": "code",
   "execution_count": 87,
   "id": "a5495381",
   "metadata": {},
   "outputs": [
    {
     "data": {
      "text/plain": [
       "array([ True,  True, False, False,  True, False,  True, False, False,\n",
       "       False, False,  True, False,  True,  True, False])"
      ]
     },
     "execution_count": 87,
     "metadata": {},
     "output_type": "execute_result"
    }
   ],
   "source": [
    "x < 7 # 布尔运算符索引"
   ]
  },
  {
   "cell_type": "code",
   "execution_count": 89,
   "id": "6f384c69",
   "metadata": {},
   "outputs": [
    {
     "data": {
      "text/plain": [
       "array([5, 4, 0, 0, 1, 0, 6, 0, 0, 0, 0, 3, 0, 2, 0, 0])"
      ]
     },
     "execution_count": 89,
     "metadata": {},
     "output_type": "execute_result"
    }
   ],
   "source": [
    "x[x > 6] = 0 # 将对应布尔下标的元素置零\n",
    "x"
   ]
  },
  {
   "cell_type": "code",
   "execution_count": 107,
   "id": "7ac50dc1",
   "metadata": {},
   "outputs": [
    {
     "data": {
      "text/plain": [
       "False"
      ]
     },
     "execution_count": 107,
     "metadata": {},
     "output_type": "execute_result"
    }
   ],
   "source": [
    "np.any(x>6) & np.all(x>0)"
   ]
  },
  {
   "cell_type": "code",
   "execution_count": 106,
   "id": "29ab102b",
   "metadata": {},
   "outputs": [
    {
     "data": {
      "text/plain": [
       "15"
      ]
     },
     "execution_count": 106,
     "metadata": {},
     "output_type": "execute_result"
    }
   ],
   "source": [
    "np.sum((x<=6) & (x>0)) # 返回区间内个数"
   ]
  },
  {
   "cell_type": "code",
   "execution_count": 109,
   "id": "63807d9d",
   "metadata": {},
   "outputs": [
    {
     "data": {
      "text/plain": [
       "3"
      ]
     },
     "execution_count": 109,
     "metadata": {},
     "output_type": "execute_result"
    }
   ],
   "source": [
    "np.sum(x % 2 == 1) # 判断奇数个数"
   ]
  },
  {
   "cell_type": "code",
   "execution_count": 96,
   "id": "10ca81e6",
   "metadata": {},
   "outputs": [
    {
     "data": {
      "text/plain": [
       "array([  5,   4,   0,   0,   1,   0,   6,   0,   0,   0,   0,   3,   0,\n",
       "       114,   0,   0])"
      ]
     },
     "execution_count": 96,
     "metadata": {},
     "output_type": "execute_result"
    }
   ],
   "source": [
    "x[(x>1) & (x<3)] = 114\n",
    "x"
   ]
  },
  {
   "cell_type": "code",
   "execution_count": 97,
   "id": "deddb0cf",
   "metadata": {},
   "outputs": [
    {
     "data": {
      "text/plain": [
       "array([5, 4, 1])"
      ]
     },
     "execution_count": 97,
     "metadata": {},
     "output_type": "execute_result"
    }
   ],
   "source": [
    "index = [0,1,4]\n",
    "x[index] # fancy indexing"
   ]
  },
  {
   "cell_type": "code",
   "execution_count": 118,
   "id": "450a3c20",
   "metadata": {},
   "outputs": [
    {
     "data": {
      "text/plain": [
       "array([[ 2,  3,  5,  4],\n",
       "       [15, 10, 12,  1],\n",
       "       [10, 13, 11, 14],\n",
       "       [ 5,  2,  9, 13]])"
      ]
     },
     "execution_count": 118,
     "metadata": {},
     "output_type": "execute_result"
    }
   ],
   "source": [
    "X = np.random.randint(1,16,16).reshape(4,-1)\n",
    "X"
   ]
  },
  {
   "cell_type": "code",
   "execution_count": 125,
   "id": "12eafb38",
   "metadata": {},
   "outputs": [
    {
     "data": {
      "text/plain": [
       "array([[15, 10, 12,  1],\n",
       "       [ 5,  2,  9, 13]])"
      ]
     },
     "execution_count": 125,
     "metadata": {},
     "output_type": "execute_result"
    }
   ],
   "source": [
    "X[X[:, 2] % 3 == 0, :] # 选出那些第三个元素是3倍数的行向量"
   ]
  }
 ],
 "metadata": {
  "kernelspec": {
   "display_name": "Python 3 (ipykernel)",
   "language": "python",
   "name": "python3"
  },
  "language_info": {
   "codemirror_mode": {
    "name": "ipython",
    "version": 3
   },
   "file_extension": ".py",
   "mimetype": "text/x-python",
   "name": "python",
   "nbconvert_exporter": "python",
   "pygments_lexer": "ipython3",
   "version": "3.9.13"
  },
  "varInspector": {
   "cols": {
    "lenName": 16,
    "lenType": 16,
    "lenVar": 40
   },
   "kernels_config": {
    "python": {
     "delete_cmd_postfix": "",
     "delete_cmd_prefix": "del ",
     "library": "var_list.py",
     "varRefreshCmd": "print(var_dic_list())"
    },
    "r": {
     "delete_cmd_postfix": ") ",
     "delete_cmd_prefix": "rm(",
     "library": "var_list.r",
     "varRefreshCmd": "cat(var_dic_list()) "
    }
   },
   "position": {
    "height": "153.85px",
    "left": "1020.8px",
    "right": "20px",
    "top": "205px",
    "width": "404px"
   },
   "types_to_exclude": [
    "module",
    "function",
    "builtin_function_or_method",
    "instance",
    "_Feature"
   ],
   "window_display": false
  }
 },
 "nbformat": 4,
 "nbformat_minor": 5
}
