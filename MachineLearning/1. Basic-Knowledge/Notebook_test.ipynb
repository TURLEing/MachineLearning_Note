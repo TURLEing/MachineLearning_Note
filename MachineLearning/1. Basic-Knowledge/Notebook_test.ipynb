{
 "cells": [
  {
   "cell_type": "markdown",
   "id": "2abff132",
   "metadata": {},
   "source": [
    "### 以下是验证 $1+2=3$ 的代码段："
   ]
  },
  {
   "cell_type": "code",
   "execution_count": 1,
   "id": "4b869542",
   "metadata": {
    "scrolled": true
   },
   "outputs": [
    {
     "data": {
      "text/plain": [
       "3"
      ]
     },
     "execution_count": 1,
     "metadata": {},
     "output_type": "execute_result"
    }
   ],
   "source": [
    "1 + 2"
   ]
  },
  {
   "cell_type": "markdown",
   "id": "f86b8519",
   "metadata": {},
   "source": [
    "### 以下是一个测试 Notebook 的代码段："
   ]
  },
  {
   "cell_type": "code",
   "execution_count": 7,
   "id": "d1b0c96f",
   "metadata": {},
   "outputs": [
    {
     "name": "stdout",
     "output_type": "stream",
     "text": [
      "10\n"
     ]
    }
   ],
   "source": [
    "sum = 0\n",
    "for i in range(1,5): \n",
    "    sum += i\n",
    "print(sum)"
   ]
  },
  {
   "cell_type": "markdown",
   "id": "48930714",
   "metadata": {},
   "source": [
    "### 以下是恶臭的代码段 ~~不是：~~"
   ]
  },
  {
   "cell_type": "code",
   "execution_count": 5,
   "id": "a989279e",
   "metadata": {},
   "outputs": [
    {
     "data": {
      "text/plain": [
       "False"
      ]
     },
     "execution_count": 5,
     "metadata": {},
     "output_type": "execute_result"
    }
   ],
   "source": [
    "114514 == 2"
   ]
  },
  {
   "cell_type": "markdown",
   "id": "39090626",
   "metadata": {},
   "source": [
    "### 用来测运行时间的魔法命令：`timeit`"
   ]
  },
  {
   "cell_type": "code",
   "execution_count": 13,
   "id": "ad93e39b",
   "metadata": {},
   "outputs": [
    {
     "name": "stdout",
     "output_type": "stream",
     "text": [
      "18.4 ms ± 66.1 µs per loop (mean ± std. dev. of 7 runs, 100 loops each)\n"
     ]
    }
   ],
   "source": [
    "%timeit L = [i**2 for i in range(100000)]"
   ]
  }
 ],
 "metadata": {
  "kernelspec": {
   "display_name": "Python 3 (ipykernel)",
   "language": "python",
   "name": "python3"
  },
  "language_info": {
   "codemirror_mode": {
    "name": "ipython",
    "version": 3
   },
   "file_extension": ".py",
   "mimetype": "text/x-python",
   "name": "python",
   "nbconvert_exporter": "python",
   "pygments_lexer": "ipython3",
   "version": "3.9.13"
  },
  "varInspector": {
   "cols": {
    "lenName": 16,
    "lenType": 16,
    "lenVar": 40
   },
   "kernels_config": {
    "python": {
     "delete_cmd_postfix": "",
     "delete_cmd_prefix": "del ",
     "library": "var_list.py",
     "varRefreshCmd": "print(var_dic_list())"
    },
    "r": {
     "delete_cmd_postfix": ") ",
     "delete_cmd_prefix": "rm(",
     "library": "var_list.r",
     "varRefreshCmd": "cat(var_dic_list()) "
    }
   },
   "types_to_exclude": [
    "module",
    "function",
    "builtin_function_or_method",
    "instance",
    "_Feature"
   ],
   "window_display": true
  }
 },
 "nbformat": 4,
 "nbformat_minor": 5
}
