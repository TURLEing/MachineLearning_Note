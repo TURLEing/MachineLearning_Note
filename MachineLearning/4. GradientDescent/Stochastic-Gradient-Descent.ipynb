{
 "cells": [
  {
   "cell_type": "markdown",
   "id": "ec37943d",
   "metadata": {},
   "source": [
    "## 随机梯度下降法"
   ]
  },
  {
   "cell_type": "markdown",
   "id": "f217666d",
   "metadata": {},
   "source": [
    "### 算法概述："
   ]
  },
  {
   "cell_type": "code",
   "execution_count": 2,
   "id": "42a13cdf",
   "metadata": {},
   "outputs": [],
   "source": [
    "import numpy as np\n",
    "import matplotlib as mpl\n",
    "import matplotlib.pyplot as plt\n",
    "%matplotlib inline"
   ]
  },
  {
   "cell_type": "code",
   "execution_count": 3,
   "id": "5e3998c5",
   "metadata": {},
   "outputs": [],
   "source": [
    "m = 100000\n",
    "\n",
    "x = np.random.normal(size = m)\n",
    "X = x.reshape(-1,1)\n",
    "y = 4.*x + 3. + np.random.normal(0, 3, size=m)"
   ]
  },
  {
   "cell_type": "code",
   "execution_count": 4,
   "id": "2dacf24c",
   "metadata": {},
   "outputs": [],
   "source": [
    "def dJ_sgd(theta, Xb_i, y_i):\n",
    "    return Xb_i.T.dot(Xb_i.dot(theta) - y_i) *2."
   ]
  },
  {
   "cell_type": "code",
   "execution_count": 30,
   "id": "c7063d75",
   "metadata": {},
   "outputs": [],
   "source": [
    "def sgd(Xb, y, theta0, n_iters):\n",
    "# n_iter 指的是所有数据轮回几遍\n",
    "    \n",
    "    t0 = 5.\n",
    "    t1 = 50.\n",
    "    \n",
    "    def eta(n_iters): \n",
    "        return t0 / (n_iters+t1)\n",
    "    \n",
    "    theta = theta0\n",
    "    m = len(Xb)\n",
    "    for i_iter in range(n_iters):\n",
    "        \n",
    "        index = np.random.permutation(m)\n",
    "        Xb_n = Xb[index]\n",
    "        y_n = y[index]\n",
    "        #将原有序列打乱\n",
    "        \n",
    "        for i in range(m): \n",
    "            gd = dJ_sgd(theta, Xb_n[i], y_n[i])\n",
    "            theta = theta - eta(i_iter*m+i) * gd\n",
    "    # 此时算法结束的条件只有迭代边界\n",
    "        \n",
    "    return theta    "
   ]
  },
  {
   "cell_type": "code",
   "execution_count": 35,
   "id": "edbf10a2",
   "metadata": {},
   "outputs": [
    {
     "name": "stdout",
     "output_type": "stream",
     "text": [
      "Wall time: 896 ms\n"
     ]
    }
   ],
   "source": [
    "%%time\n",
    "Xb = np.hstack([np.ones((len(X),1)),X])\n",
    "theta0 = np.zeros(Xb.shape[1])\n",
    "theta = sgd(Xb, y, theta0, n_iters=3)"
   ]
  },
  {
   "cell_type": "code",
   "execution_count": 36,
   "id": "a567cae9",
   "metadata": {},
   "outputs": [
    {
     "data": {
      "text/plain": [
       "array([3.00478579, 3.97080291])"
      ]
     },
     "execution_count": 36,
     "metadata": {},
     "output_type": "execute_result"
    }
   ],
   "source": [
    "theta"
   ]
  },
  {
   "cell_type": "markdown",
   "id": "8b9067ed",
   "metadata": {},
   "source": [
    "### 真实数据"
   ]
  },
  {
   "cell_type": "code",
   "execution_count": 39,
   "id": "4a4b8003",
   "metadata": {},
   "outputs": [],
   "source": [
    "from sklearn import datasets\n",
    "boston = datasets.load_boston()"
   ]
  },
  {
   "cell_type": "code",
   "execution_count": 40,
   "id": "edb67668",
   "metadata": {},
   "outputs": [],
   "source": [
    "X = boston.data\n",
    "y = boston.target"
   ]
  },
  {
   "cell_type": "code",
   "execution_count": 41,
   "id": "6e4436b5",
   "metadata": {},
   "outputs": [],
   "source": [
    "X = X[y < 50.]\n",
    "y = y[y < 50.]"
   ]
  },
  {
   "cell_type": "code",
   "execution_count": 42,
   "id": "6c8b251e",
   "metadata": {},
   "outputs": [],
   "source": [
    "# 训练数据集与测试数据集分离\n",
    "from sklearn.model_selection import train_test_split\n",
    "X_train, X_test, y_train, y_test = train_test_split(X, y, random_state=666)"
   ]
  },
  {
   "cell_type": "code",
   "execution_count": 43,
   "id": "f946d6ed",
   "metadata": {},
   "outputs": [],
   "source": [
    "# 数据归一化\n",
    "from sklearn.preprocessing import StandardScaler\n",
    "standardScaler = StandardScaler()\n",
    "\n",
    "standardScaler.fit(X_train)\n",
    "X_trains = standardScaler.transform(X_train)\n",
    "X_tests = standardScaler.transform(X_test)"
   ]
  },
  {
   "cell_type": "code",
   "execution_count": 44,
   "id": "4c895347",
   "metadata": {},
   "outputs": [],
   "source": [
    "#  调用 sklearn 库中的SGD库\n",
    "from sklearn.linear_model import SGDRegressor"
   ]
  },
  {
   "cell_type": "code",
   "execution_count": 50,
   "id": "62580bcb",
   "metadata": {},
   "outputs": [
    {
     "name": "stdout",
     "output_type": "stream",
     "text": [
      "Wall time: 19 ms\n"
     ]
    },
    {
     "data": {
      "text/plain": [
       "0.8009401801162739"
      ]
     },
     "execution_count": 50,
     "metadata": {},
     "output_type": "execute_result"
    }
   ],
   "source": [
    "# 创建实例+训练模型+模型评估\n",
    "sgd_reg = SGDRegressor(n_iter_no_change=200)\n",
    "%time sgd_reg.fit(X_trains, y_train)\n",
    "sgd_reg.score(X_tests, y_test)"
   ]
  },
  {
   "cell_type": "code",
   "execution_count": null,
   "id": "926efaac",
   "metadata": {},
   "outputs": [],
   "source": []
  }
 ],
 "metadata": {
  "kernelspec": {
   "display_name": "Python 3 (ipykernel)",
   "language": "python",
   "name": "python3"
  },
  "language_info": {
   "codemirror_mode": {
    "name": "ipython",
    "version": 3
   },
   "file_extension": ".py",
   "mimetype": "text/x-python",
   "name": "python",
   "nbconvert_exporter": "python",
   "pygments_lexer": "ipython3",
   "version": "3.9.13"
  }
 },
 "nbformat": 4,
 "nbformat_minor": 5
}
