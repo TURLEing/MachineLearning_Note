{
 "cells": [
  {
   "cell_type": "markdown",
   "id": "c495fcff",
   "metadata": {},
   "source": [
    "## 测试机器学习算法 - 准确度"
   ]
  },
  {
   "cell_type": "markdown",
   "id": "a38203b9",
   "metadata": {},
   "source": [
    "利用 **train_test_split** 分离出一部分数据做训练，另外一部分数据做测试。\n",
    "\n",
    "本篇利用KNN算法训练 sklearn 上的鸢尾花数据以及手写数字数据集。"
   ]
  },
  {
   "cell_type": "markdown",
   "id": "98d560c3",
   "metadata": {
    "heading_collapsed": true
   },
   "source": [
    "### 1. 鸢尾花数据"
   ]
  },
  {
   "cell_type": "code",
   "execution_count": 1,
   "id": "04589743",
   "metadata": {
    "hidden": true
   },
   "outputs": [],
   "source": [
    "import numpy as np\n",
    "import matplotlib.pyplot as plt\n",
    "from sklearn import datasets "
   ]
  },
  {
   "cell_type": "markdown",
   "id": "4510c6a8",
   "metadata": {
    "hidden": true
   },
   "source": [
    "导入数据集 以及 预处理："
   ]
  },
  {
   "cell_type": "code",
   "execution_count": 2,
   "id": "0b6b28b0",
   "metadata": {
    "hidden": true
   },
   "outputs": [
    {
     "data": {
      "text/plain": [
       "dict_keys(['data', 'target', 'frame', 'target_names', 'DESCR', 'feature_names', 'filename', 'data_module'])"
      ]
     },
     "execution_count": 2,
     "metadata": {},
     "output_type": "execute_result"
    }
   ],
   "source": [
    "iris = datasets.load_iris() # 用鸢尾花数据集\n",
    "iris.keys()"
   ]
  },
  {
   "cell_type": "code",
   "execution_count": 3,
   "id": "594477fa",
   "metadata": {
    "hidden": true
   },
   "outputs": [],
   "source": [
    "X = iris.data\n",
    "y = iris.target"
   ]
  },
  {
   "cell_type": "code",
   "execution_count": 4,
   "id": "7ef991e1",
   "metadata": {
    "hidden": true
   },
   "outputs": [
    {
     "name": "stdout",
     "output_type": "stream",
     "text": [
      "(150, 4) (150,)\n"
     ]
    }
   ],
   "source": [
    "print(X.shape, y.shape)"
   ]
  },
  {
   "cell_type": "code",
   "execution_count": 5,
   "id": "0f4c0b9c",
   "metadata": {
    "hidden": true,
    "scrolled": true
   },
   "outputs": [
    {
     "data": {
      "text/plain": [
       "array([116,  51,  61,  48, 139,  83, 117, 137,   7, 119,  95,  71, 125,\n",
       "       100, 144, 102, 129, 123,  42,  65,  70, 103,  98,   2,  93,  56,\n",
       "        74,  16, 104,   1, 127, 126,  77,  32,  72,   4,  37, 147,  60,\n",
       "        84,  33,   0, 136,  80, 132, 145,  14, 142, 108,  52,  34,  78,\n",
       "        86,  66,  43, 133,  21, 118,  68, 101,  29,   6,  15,  69,  85,\n",
       "         5, 121,  58,  67,  73,  38,  24,  41,  19,  47, 111, 131,  91,\n",
       "         3, 105,  90,  22, 124,  49,  26, 135, 106,  57, 143,  96, 130,\n",
       "        64,   8,  59,  44,  99, 149, 148,  79, 140,  39,  89,  30,  94,\n",
       "        27,  11,  17, 107,  28,  54,  53, 109,  82,  63,  92, 122,  40,\n",
       "       113,  23,  36,  62,  13,  12, 112, 141,  46, 138,  97,  25, 146,\n",
       "        50,  87,  76,  55,  81,  18,  20,  75, 115,  31, 128, 120, 110,\n",
       "        45,  88,   9,  35, 134,  10, 114])"
      ]
     },
     "execution_count": 5,
     "metadata": {},
     "output_type": "execute_result"
    }
   ],
   "source": [
    "# 随机打乱数据集，取出对应的下标\n",
    "shuffled_indexes = np.random.permutation(len(X))\n",
    "shuffled_indexes"
   ]
  },
  {
   "cell_type": "markdown",
   "id": "b1d638f9",
   "metadata": {
    "hidden": true
   },
   "source": [
    "分离训练数据集和测试数据集："
   ]
  },
  {
   "cell_type": "code",
   "execution_count": 6,
   "id": "6a56c64c",
   "metadata": {
    "hidden": true
   },
   "outputs": [],
   "source": [
    "test_ratio = 0.2\n",
    "test_size = int(len(X) * test_ratio)\n",
    "\n",
    "#训练集是前80%，测试集是后20%\n",
    "test_indexes = shuffled_indexes[:test_size]\n",
    "train_indexes = shuffled_indexes[test_size:]"
   ]
  },
  {
   "cell_type": "code",
   "execution_count": 7,
   "id": "2d3cca3a",
   "metadata": {
    "hidden": true
   },
   "outputs": [],
   "source": [
    "X_train = X[train_indexes]\n",
    "y_train = y[train_indexes]\n",
    "\n",
    "X_test = X[test_indexes]\n",
    "y_test = y[test_indexes]"
   ]
  },
  {
   "cell_type": "markdown",
   "id": "b2c50eb9",
   "metadata": {
    "hidden": true
   },
   "source": [
    "测试部分："
   ]
  },
  {
   "cell_type": "code",
   "execution_count": 9,
   "id": "ad8d8d4f",
   "metadata": {
    "hidden": true
   },
   "outputs": [],
   "source": [
    "%run kNN/kNN.py \n",
    "\n",
    "my_knn_clf = KNNClassifier(3)\n",
    "my_knn_clf.fit(X_train, y_train)\n",
    "y_predict = my_knn_clf.predict(X_test)"
   ]
  },
  {
   "cell_type": "code",
   "execution_count": 10,
   "id": "dfd3addc",
   "metadata": {
    "hidden": true
   },
   "outputs": [
    {
     "data": {
      "text/plain": [
       "0.9"
      ]
     },
     "execution_count": 10,
     "metadata": {},
     "output_type": "execute_result"
    }
   ],
   "source": [
    "sum(y_predict == y_test) / len(y_test)\n",
    "# 该比例表示该模型的准确率"
   ]
  },
  {
   "cell_type": "markdown",
   "id": "8b6ff6d0",
   "metadata": {
    "heading_collapsed": true
   },
   "source": [
    "### 手写数字数据集"
   ]
  },
  {
   "cell_type": "markdown",
   "id": "20ae85de",
   "metadata": {
    "hidden": true
   },
   "source": [
    "导入数据集 以及 利用 sklearn 的 ts-split 库："
   ]
  },
  {
   "cell_type": "code",
   "execution_count": 11,
   "id": "cc78a344",
   "metadata": {
    "hidden": true
   },
   "outputs": [
    {
     "data": {
      "text/plain": [
       "dict_keys(['data', 'target', 'frame', 'feature_names', 'target_names', 'images', 'DESCR'])"
      ]
     },
     "execution_count": 11,
     "metadata": {},
     "output_type": "execute_result"
    }
   ],
   "source": [
    "digits = datasets.load_digits()\n",
    "digits.keys()"
   ]
  },
  {
   "cell_type": "code",
   "execution_count": 13,
   "id": "f10f4aba",
   "metadata": {
    "hidden": true
   },
   "outputs": [
    {
     "name": "stdout",
     "output_type": "stream",
     "text": [
      "(1797, 64) (1797,)\n"
     ]
    }
   ],
   "source": [
    "X = digits.data\n",
    "y = digits.target\n",
    "print(X.shape, y.shape) #有 64 个特征"
   ]
  },
  {
   "cell_type": "code",
   "execution_count": 16,
   "id": "19298908",
   "metadata": {
    "hidden": true
   },
   "outputs": [
    {
     "name": "stdout",
     "output_type": "stream",
     "text": [
      "(1437, 64) (1437,)\n"
     ]
    }
   ],
   "source": [
    "from sklearn.model_selection import train_test_split\n",
    "\n",
    "X_train, X_test, y_train, y_test = train_test_split(X, y, test_size=0.2, random_state=666)\n",
    "# 直接得到训练集以及测试集\n",
    "\n",
    "print(X_train.shape, y_train.shape)"
   ]
  },
  {
   "cell_type": "markdown",
   "id": "cf54e2f9",
   "metadata": {
    "hidden": true
   },
   "source": [
    "测试部分："
   ]
  },
  {
   "cell_type": "code",
   "execution_count": 17,
   "id": "067e052b",
   "metadata": {
    "hidden": true
   },
   "outputs": [],
   "source": [
    "my_knn_clf = KNNClassifier(3)\n",
    "my_knn_clf.fit(X_train, y_train)\n",
    "y_predict = my_knn_clf.predict(X_test)"
   ]
  },
  {
   "cell_type": "code",
   "execution_count": 18,
   "id": "2f9245a9",
   "metadata": {
    "hidden": true
   },
   "outputs": [
    {
     "data": {
      "text/plain": [
       "0.9888888888888889"
      ]
     },
     "execution_count": 18,
     "metadata": {},
     "output_type": "execute_result"
    }
   ],
   "source": [
    "sum(y_predict == y_test) / len(y_test)\n",
    "# 该比例表示该模型的准确率"
   ]
  }
 ],
 "metadata": {
  "kernelspec": {
   "display_name": "Python 3 (ipykernel)",
   "language": "python",
   "name": "python3"
  },
  "language_info": {
   "codemirror_mode": {
    "name": "ipython",
    "version": 3
   },
   "file_extension": ".py",
   "mimetype": "text/x-python",
   "name": "python",
   "nbconvert_exporter": "python",
   "pygments_lexer": "ipython3",
   "version": "3.9.13"
  },
  "varInspector": {
   "cols": {
    "lenName": 16,
    "lenType": 16,
    "lenVar": 40
   },
   "kernels_config": {
    "python": {
     "delete_cmd_postfix": "",
     "delete_cmd_prefix": "del ",
     "library": "var_list.py",
     "varRefreshCmd": "print(var_dic_list())"
    },
    "r": {
     "delete_cmd_postfix": ") ",
     "delete_cmd_prefix": "rm(",
     "library": "var_list.r",
     "varRefreshCmd": "cat(var_dic_list()) "
    }
   },
   "position": {
    "height": "166.85px",
    "left": "911.68px",
    "right": "20px",
    "top": "83px",
    "width": "270px"
   },
   "types_to_exclude": [
    "module",
    "function",
    "builtin_function_or_method",
    "instance",
    "_Feature"
   ],
   "window_display": false
  }
 },
 "nbformat": 4,
 "nbformat_minor": 5
}
