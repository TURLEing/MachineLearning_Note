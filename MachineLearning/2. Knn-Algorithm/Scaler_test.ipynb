{
 "cells": [
  {
   "cell_type": "markdown",
   "id": "bcc44391",
   "metadata": {},
   "source": [
    "## Sklearn 中的 Scaler 类"
   ]
  },
  {
   "cell_type": "code",
   "execution_count": 57,
   "id": "6799808a",
   "metadata": {},
   "outputs": [],
   "source": [
    "import numpy as np\n",
    "from sklearn import datasets"
   ]
  },
  {
   "cell_type": "code",
   "execution_count": 58,
   "id": "0dc3034c",
   "metadata": {},
   "outputs": [],
   "source": [
    "iris = datasets.load_iris()\n",
    "X = iris.data\n",
    "y = iris.target"
   ]
  },
  {
   "cell_type": "code",
   "execution_count": 59,
   "id": "4ebc424b",
   "metadata": {},
   "outputs": [],
   "source": [
    "from sklearn.model_selection import train_test_split\n",
    "X_train, X_test, y_train, y_test = train_test_split(X, y)"
   ]
  },
  {
   "cell_type": "markdown",
   "id": "6b698b6c",
   "metadata": {},
   "source": [
    "导入 Scaler 类"
   ]
  },
  {
   "cell_type": "code",
   "execution_count": 60,
   "id": "02d12e5b",
   "metadata": {},
   "outputs": [],
   "source": [
    "from sklearn.preprocessing import StandardScaler"
   ]
  },
  {
   "cell_type": "code",
   "execution_count": 61,
   "id": "5fb8154a",
   "metadata": {},
   "outputs": [
    {
     "data": {
      "text/plain": [
       "StandardScaler()"
      ]
     },
     "execution_count": 61,
     "metadata": {},
     "output_type": "execute_result"
    }
   ],
   "source": [
    "scaler = StandardScaler()\n",
    "scaler.fit(X_train) # 把 X_train 丢进去进行归一化"
   ]
  },
  {
   "cell_type": "code",
   "execution_count": 62,
   "id": "4a11dd0e",
   "metadata": {},
   "outputs": [
    {
     "data": {
      "text/plain": [
       "array([5.87232143, 3.04285714, 3.83303571, 1.2125    ])"
      ]
     },
     "execution_count": 62,
     "metadata": {},
     "output_type": "execute_result"
    }
   ],
   "source": [
    "scaler.mean_ # 表示数据中值"
   ]
  },
  {
   "cell_type": "code",
   "execution_count": 63,
   "id": "f2926cbc",
   "metadata": {},
   "outputs": [
    {
     "data": {
      "text/plain": [
       "array([0.80125012, 0.44314507, 1.7379888 , 0.7473913 ])"
      ]
     },
     "execution_count": 63,
     "metadata": {},
     "output_type": "execute_result"
    }
   ],
   "source": [
    "scaler.scale_ # 表示数据分布范围"
   ]
  },
  {
   "cell_type": "code",
   "execution_count": 64,
   "id": "4d455fd0",
   "metadata": {},
   "outputs": [],
   "source": [
    "X_std_train = scaler.transform(X_train)\n",
    "X_std_test = scaler.transform(X_test)\n",
    "# 必须经过赋值才可进行归一化"
   ]
  },
  {
   "cell_type": "code",
   "execution_count": 65,
   "id": "d0851c95",
   "metadata": {},
   "outputs": [
    {
     "data": {
      "text/plain": [
       "array([[-0.58948063, -0.09671132,  0.38375638,  0.38467132],\n",
       "       [ 1.65700889, -0.09671132,  1.13174739,  0.51847005],\n",
       "       [-0.46467566,  1.03158738, -1.45745227, -1.35471206],\n",
       "       [ 0.28415418, -0.99935027,  1.01667185,  0.2508726 ],\n",
       "       [ 1.157789  ,  0.35460816,  1.18928516,  1.4550611 ],\n",
       "       [-0.21506571, -0.09671132,  0.21114307, -0.01672484],\n",
       "       [-1.08870053, -1.67632948, -0.30669686, -0.28432228],\n",
       "       [-0.09026074, -0.77369053,  0.728983  ,  0.91986621],\n",
       "       [ 1.65700889,  0.35460816,  1.24682293,  0.78606749],\n",
       "       [-0.21506571, -1.22501001,  0.67144523,  1.05366493]])"
      ]
     },
     "execution_count": 65,
     "metadata": {},
     "output_type": "execute_result"
    }
   ],
   "source": [
    "X_std_train[:10] "
   ]
  },
  {
   "cell_type": "code",
   "execution_count": 66,
   "id": "d9b0146d",
   "metadata": {},
   "outputs": [],
   "source": [
    "from sklearn.neighbors import KNeighborsClassifier"
   ]
  },
  {
   "cell_type": "code",
   "execution_count": 70,
   "id": "2c9cbcaf",
   "metadata": {},
   "outputs": [
    {
     "data": {
      "text/plain": [
       "KNeighborsClassifier(n_neighbors=3, weights='distance')"
      ]
     },
     "execution_count": 70,
     "metadata": {},
     "output_type": "execute_result"
    }
   ],
   "source": [
    "knn_clf = KNeighborsClassifier(3, weights='distance')\n",
    "knn_clf.fit(X_std_train, y_train) # 用归一化之后的数据集训练"
   ]
  },
  {
   "cell_type": "code",
   "execution_count": 72,
   "id": "90cb0ea7",
   "metadata": {},
   "outputs": [
    {
     "data": {
      "text/plain": [
       "0.9736842105263158"
      ]
     },
     "execution_count": 72,
     "metadata": {},
     "output_type": "execute_result"
    }
   ],
   "source": [
    "knn_clf.score(X_std_test, y_test)"
   ]
  }
 ],
 "metadata": {
  "kernelspec": {
   "display_name": "Python 3 (ipykernel)",
   "language": "python",
   "name": "python3"
  },
  "language_info": {
   "codemirror_mode": {
    "name": "ipython",
    "version": 3
   },
   "file_extension": ".py",
   "mimetype": "text/x-python",
   "name": "python",
   "nbconvert_exporter": "python",
   "pygments_lexer": "ipython3",
   "version": "3.9.13"
  },
  "varInspector": {
   "cols": {
    "lenName": 16,
    "lenType": 16,
    "lenVar": 40
   },
   "kernels_config": {
    "python": {
     "delete_cmd_postfix": "",
     "delete_cmd_prefix": "del ",
     "library": "var_list.py",
     "varRefreshCmd": "print(var_dic_list())"
    },
    "r": {
     "delete_cmd_postfix": ") ",
     "delete_cmd_prefix": "rm(",
     "library": "var_list.r",
     "varRefreshCmd": "cat(var_dic_list()) "
    }
   },
   "oldHeight": 122.85,
   "position": {
    "height": "40px",
    "left": "368.8px",
    "right": "20px",
    "top": "117px",
    "width": "350px"
   },
   "types_to_exclude": [
    "module",
    "function",
    "builtin_function_or_method",
    "instance",
    "_Feature"
   ],
   "varInspector_section_display": "none",
   "window_display": false
  }
 },
 "nbformat": 4,
 "nbformat_minor": 5
}
